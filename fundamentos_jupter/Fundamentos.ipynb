{
 "cells": [
  {
   "cell_type": "markdown",
   "metadata": {},
   "source": [
    "# Infos"
   ]
  },
  {
   "cell_type": "code",
   "execution_count": null,
   "metadata": {},
   "outputs": [],
   "source": [
    "# clica em In[] ele fica azul ou Esc, quer dizer que está no modo comando. Quando verde ou enter, está no modo escrita.\n",
    "# setas cima e baixo = navega entre as notas\n",
    "# Comand + enter = executa\n",
    "# b = cria uma nova nota depois; a = cria uma nova nota antes\n",
    "# l = exibe número das linhas\n",
    "# dd = exclui a nota\n",
    "# 1 ou m = altera tipo da nota para Markdown (tipo de escrita do github) # título ## subtítulo (Usar para colocar títulos para separar as notas)\n",
    "# y = volta para digitar modo código python\n",
    "# dir()\n",
    "# help(print)\n",
    "\"\"\"\n",
    "Comentário linhas múltiplas\n",
    "\"\"\""
   ]
  },
  {
   "cell_type": "markdown",
   "metadata": {},
   "source": [
    "# Operadores"
   ]
  },
  {
   "cell_type": "code",
   "execution_count": 1,
   "metadata": {},
   "outputs": [
    {
     "name": "stdout",
     "output_type": "stream",
     "text": [
      "3\n",
      "-1\n",
      "10\n",
      "25\n",
      "1.5\n",
      "1\n",
      "1\n"
     ]
    }
   ],
   "source": [
    "print(1 + 2)\n",
    "print(1 - 2)\n",
    "print(5 * 2)\n",
    "print(5 ** 2)\n",
    "print(3 / 2)\n",
    "print(3 // 2)\n",
    "print(10 % 3)"
   ]
  },
  {
   "cell_type": "code",
   "execution_count": 2,
   "metadata": {},
   "outputs": [
    {
     "data": {
      "text/plain": [
       "5"
      ]
     },
     "execution_count": 2,
     "metadata": {},
     "output_type": "execute_result"
    }
   ],
   "source": [
    "a = 2\n",
    "b = 3\n",
    "a + b"
   ]
  },
  {
   "cell_type": "code",
   "execution_count": 3,
   "metadata": {},
   "outputs": [
    {
     "data": {
      "text/plain": [
       "125"
      ]
     },
     "execution_count": 3,
     "metadata": {},
     "output_type": "execute_result"
    }
   ],
   "source": [
    "_ ** 3 # resultado da operacao anterior"
   ]
  },
  {
   "cell_type": "code",
   "execution_count": null,
   "metadata": {},
   "outputs": [],
   "source": [
    "a = 3\n",
    "b = 7\n",
    "\n",
    "a, b = b, a\n",
    "print (a, b)"
   ]
  },
  {
   "cell_type": "code",
   "execution_count": 4,
   "metadata": {},
   "outputs": [
    {
     "name": "stdout",
     "output_type": "stream",
     "text": [
      "True\n",
      "False\n",
      "None\n",
      "2.2\n",
      "Você é muito muito muito legal\n",
      "[1, 2, 3]\n",
      "{'nome': 'Pedro', 'idade': 30}\n"
     ]
    }
   ],
   "source": [
    "print(True)\n",
    "print(False)\n",
    "print(None)\n",
    "print(1.2 + 1) #real e inteiro\n",
    "print('Você é ' + 3 * 'muito ' + 'legal')\n",
    "#print(3 + 'a')\n",
    "print([1, 2, 3])\n",
    "print({'nome': 'Pedro', 'idade': 30})"
   ]
  },
  {
   "cell_type": "code",
   "execution_count": 5,
   "metadata": {},
   "outputs": [
    {
     "name": "stdout",
     "output_type": "stream",
     "text": [
      "15.2\n",
      "Agora sou uma string\n"
     ]
    }
   ],
   "source": [
    "a = 10\n",
    "b = 5.2\n",
    "print(a + b)\n",
    "\n",
    "a = 'Agora sou uma string'\n",
    "print(a)"
   ]
  },
  {
   "cell_type": "code",
   "execution_count": 6,
   "metadata": {},
   "outputs": [
    {
     "name": "stdout",
     "output_type": "stream",
     "text": [
      "71.1849179092582\n"
     ]
    }
   ],
   "source": [
    "salario = 3450.45\n",
    "despesas = 2456.2\n",
    "\n",
    "print((despesas * 100) / salario)"
   ]
  },
  {
   "cell_type": "code",
   "execution_count": null,
   "metadata": {},
   "outputs": [],
   "source": [
    "# Operadores relacionais\n",
    "3 < 4\n",
    "4 >= 8\n",
    "3 != 9\n",
    "3 == 3\n",
    "2 == '2'"
   ]
  },
  {
   "cell_type": "code",
   "execution_count": null,
   "metadata": {},
   "outputs": [],
   "source": [
    "# Operadores de atribuição\n",
    "a = 3\n",
    "a += 5 \n",
    "a -= 3\n",
    "a *= 2\n",
    "a /= 4\n",
    "a %= 2\n",
    "a **= 3\n",
    "a //= 5\n",
    "#a++ a-- não existe em python\n",
    "a += 1\n",
    "a = -a # torna o número negativo\n"
   ]
  },
  {
   "cell_type": "code",
   "execution_count": 7,
   "metadata": {},
   "outputs": [
    {
     "name": "stdout",
     "output_type": "stream",
     "text": [
      "2\n"
     ]
    }
   ],
   "source": [
    "# Operadores lógicos\n",
    "True or False\n",
    "7 != 3 and 2 > 3\n",
    "# XOR, ou esclusivo, usa o !=, se os dois valores são iguais dá false, se são diferente dá true\n",
    "True != True\n",
    "True != False\n",
    "# negação\n",
    "not True\n",
    "not 1 # qualquer valor diferente de 0 é True\n",
    "not -1\n",
    "not not True\n",
    "\n",
    "#Cuidado, operador bit a bit, não precisa usar\n",
    "True & True\n",
    "False | True\n",
    "#True ˆ False # XOR\n",
    "# exemplo da comparação bit a bit\n",
    "# 3 = 11\n",
    "# 2 = 10\n",
    "# _ = 10\n",
    "print(3 & 2) # resultado = 2"
   ]
  },
  {
   "cell_type": "code",
   "execution_count": 8,
   "metadata": {},
   "outputs": [
    {
     "name": "stdout",
     "output_type": "stream",
     "text": [
      "TV 50 = False, TV 32 = True, Sorvete = True, Saúde = False\n",
      "sorvete, saude = tv_32, tv_50\n",
      "tv_50, tv_32 = sorvete, saude\n"
     ]
    }
   ],
   "source": [
    "\"\"\"\n",
    "Desafio: Trabalho na terça e quinta. \n",
    "Se os dois derem certo, vai pro shopping comprar tv de 50'\n",
    "se um deu certo compra tv de 32'\n",
    "se nenhum deu certo, fica em casa\n",
    "se comprou alguma tv, toma sorvete\n",
    "\"\"\"\n",
    "trabalho_terca = False\n",
    "trabalho_quinta = True\n",
    "tv_50 = trabalho_terca and trabalho_quinta\n",
    "tv_32 = trabalho_terca != trabalho_quinta #xor\n",
    "sorvete = trabalho_terca or trabalho_quinta\n",
    "saude = not sorvete\n",
    "print(\"TV 50 = {}, TV 32 = {}, Sorvete = {}, Saúde = {}\".format(tv_50,tv_32,sorvete,saude))\n",
    "print(\"{2}, {3} = {1}, {0}\".format('tv_50','tv_32','sorvete','saude'))\n",
    "print(\"{0}, {1} = {2}, {3}\".format('tv_50','tv_32','sorvete','saude'))"
   ]
  },
  {
   "cell_type": "code",
   "execution_count": 9,
   "metadata": {},
   "outputs": [
    {
     "data": {
      "text/plain": [
       "'Hoje estou com as roupas molhadas.'"
      ]
     },
     "execution_count": 9,
     "metadata": {},
     "output_type": "execute_result"
    }
   ],
   "source": [
    "# Operadores ternários\n",
    "esta_chovendo = True\n",
    "'Hoje estou com as roupas ' + ('secas.', 'molhadas.')[esta_chovendo]\n",
    "\n",
    "'Hoje estou com as roupas ' + ('secas.' if not esta_chovendo else 'molhadas.')"
   ]
  },
  {
   "cell_type": "code",
   "execution_count": null,
   "metadata": {},
   "outputs": [],
   "source": [
    "# Outros operadores\n",
    "lista = [1, 2, 3, 'Ana', 'Clara']\n",
    "print(2 in lista)\n",
    "print('Ana' not in lista)\n",
    "\n",
    "lista_a = [1, 2, 3]\n",
    "lista_b = lista_a # aponta pra mesma lista\n",
    "lista_c = [1, 2, 3] \n",
    "print('Lista: {}'.format(lista_a is lista_b))\n",
    "print('Lista: {}'.format(lista_a is lista_c)) # não tem a mesma identidade, pois apontam para duas listas diferentes\n",
    "\n",
    "x = 3\n",
    "y = x\n",
    "z = 3\n",
    "print(x is y) # aqui já é igual, pois o valor é copiado \n",
    "print(y is z)\n",
    "print(x is not z)"
   ]
  },
  {
   "cell_type": "code",
   "execution_count": 12,
   "metadata": {},
   "outputs": [
    {
     "name": "stdout",
     "output_type": "stream",
     "text": [
      "<class 'int'>\n",
      "3.3333333333333335\n"
     ]
    },
    {
     "data": {
      "text/plain": [
       "7"
      ]
     },
     "execution_count": 12,
     "metadata": {},
     "output_type": "execute_result"
    }
   ],
   "source": [
    "#Builtins\n",
    "print(type(1))\n",
    "__builtins__.type('Fala aí')\n",
    "__builtins__.print(10 / 3)\n",
    "__builtins__.len('Fala aí')\n",
    "#__builtins__.help(__builtins__.dir)\n",
    "#dir()\n",
    "#dir(__builtins__)"
   ]
  },
  {
   "cell_type": "code",
   "execution_count": 14,
   "metadata": {},
   "outputs": [
    {
     "name": "stdout",
     "output_type": "stream",
     "text": [
      "5\n",
      "23\n",
      "<class 'int'>\n",
      "<class 'str'>\n",
      "5\n",
      "23\n",
      "5.4\n"
     ]
    }
   ],
   "source": [
    "# Conversao de tipos\n",
    "\n",
    "print(2 + 3)\n",
    "print('2' + '3')\n",
    "#print(2 + '3') # erro\n",
    "\n",
    "a = 2\n",
    "b = '3'\n",
    "print(type(a))\n",
    "print(type(b))\n",
    "\n",
    "print(a + int(b))\n",
    "print(str(a) + b)\n",
    "print(a + float(3.4))"
   ]
  },
  {
   "cell_type": "code",
   "execution_count": 15,
   "metadata": {},
   "outputs": [
    {
     "name": "stdout",
     "output_type": "stream",
     "text": [
      "5.0\n",
      "3\n",
      "3.0\n",
      "3\n",
      "2\n",
      "3.5\n"
     ]
    }
   ],
   "source": [
    "# Conversão automática\n",
    "print(10 / 2) #resultado sempre float\n",
    "print(10 // 3) #resultado int\n",
    "print(10 // 3.3) #resultado float\n",
    "print(2 + True) # True = 1\n",
    "print(2 + False) # False = 0\n",
    "print(1 + 2.5) # resultado float"
   ]
  },
  {
   "cell_type": "code",
   "execution_count": 19,
   "metadata": {},
   "outputs": [
    {
     "name": "stdout",
     "output_type": "stream",
     "text": [
      "False\n",
      "True\n",
      "5\n",
      "2\n",
      "2\n"
     ]
    }
   ],
   "source": [
    "# Tipos Numéricos\n",
    "dir(int) # mostra as funções disponíveis\n",
    "dir(float)\n",
    "\n",
    "b = 2.5\n",
    "print(b.is_integer())\n",
    "print(5.0.is_integer())\n",
    "print(int.__add__(2, 3))\n",
    "print((-2).__abs__())\n",
    "print(abs(-2))"
   ]
  },
  {
   "cell_type": "code",
   "execution_count": 24,
   "metadata": {},
   "outputs": [
    {
     "name": "stdout",
     "output_type": "stream",
     "text": [
      "3.3000000000000003\n",
      "0.1428571428571428571428571429\n",
      "0.1429\n",
      "7\n",
      "3.3000\n"
     ]
    }
   ],
   "source": [
    "print(1.1 + 2.2) # resultado 3.3000000000000003\n",
    "# decimal evita esse problema\n",
    "# importar\n",
    "from decimal import Decimal, getcontext\n",
    "\n",
    "print(Decimal(1) / Decimal(7))\n",
    "getcontext().prec = 4 # precisão das casas decimais\n",
    "print(Decimal(1) / Decimal(7))\n",
    "print(Decimal.max(Decimal(1), Decimal(7)))\n",
    "\n",
    "getcontext().prec = 5 # precisão das casas decimais\n",
    "print(Decimal(1.1) + Decimal(2.2))\n",
    "\n",
    "dir(Decimal)"
   ]
  },
  {
   "cell_type": "code",
   "execution_count": 34,
   "metadata": {},
   "outputs": [
    {
     "name": "stdout",
     "output_type": "stream",
     "text": [
      "marca d'água\n",
      "marca d'água\n",
      "pode usar \"aspas\"\n",
      "Texto com\n",
      "múltiplas linhas\n",
      "Texto com\n",
      " \t múltiplas linhas\n"
     ]
    }
   ],
   "source": [
    "# Tipo String\n",
    "#dir(str)\n",
    "\n",
    "print('marca d\\'água')\n",
    "print(\"marca d'água\")\n",
    "print('pode usar \"aspas\"')\n",
    "doc = \"\"\"Texto com\n",
    "múltiplas linhas\"\"\"\n",
    "doc = '''Texto com\n",
    "múltiplas linhas'''\n",
    "print(doc)\n",
    "print('Texto com\\n \\t múltiplas linhas')"
   ]
  },
  {
   "cell_type": "code",
   "execution_count": 47,
   "metadata": {},
   "outputs": [
    {
     "name": "stdout",
     "output_type": "stream",
     "text": [
      "Ana Paula\n",
      "A\n",
      "u\n",
      "a\n",
      "l\n",
      "Paula\n",
      "Paula\n",
      "Ana\n",
      "Ana\n",
      "aluaP anA\n",
      "13579\n",
      "24680\n",
      "0987654321\n"
     ]
    }
   ],
   "source": [
    "nome = 'Ana Paula'\n",
    "print(nome)\n",
    "print(nome[0])\n",
    "print(nome[6])\n",
    "print(nome[-1])\n",
    "print(nome[-2])\n",
    "print(nome[4:])\n",
    "print(nome[-5:])\n",
    "print(nome[:3])\n",
    "print(nome[0:3])\n",
    "print(nome[::-1])\n",
    "\n",
    "numeros = '1234567890'\n",
    "print(numeros[::2]) # vai de 2 em 2 na string toda\n",
    "print(numeros[1::2])\n",
    "print(numeros[::-1])"
   ]
  },
  {
   "cell_type": "code",
   "execution_count": 53,
   "metadata": {
    "scrolled": true
   },
   "outputs": [
    {
     "name": "stdout",
     "output_type": "stream",
     "text": [
      "False\n",
      "31\n",
      "python é uma liguagem excelente\n",
      "True\n",
      "PYTHON É UMA LIGUAGEM EXCELENTE\n",
      "['Python', 'é', 'uma', 'liguagem', 'excelente']\n",
      "['Python é uma liguag', 'm ', 'xc', 'l', 'nt', '']\n"
     ]
    }
   ],
   "source": [
    "frase = 'Python é uma liguagem excelente'\n",
    "print('py' in frase)\n",
    "print(len(frase))\n",
    "print(frase.lower())\n",
    "print('py' in frase.lower())\n",
    "print(frase.upper())\n",
    "print(frase.split())\n",
    "print(frase.split('e'))"
   ]
  },
  {
   "cell_type": "code",
   "execution_count": 66,
   "metadata": {},
   "outputs": [
    {
     "name": "stdout",
     "output_type": "stream",
     "text": [
      "[1, 5]\n",
      "2\n",
      "[1, 5, [1, 2, 3]]\n",
      "3\n",
      "[1, 8, 'Ana', 'Bia']\n",
      "[1, 'Ana', 'Bia']\n",
      "['Bia', 'Ana', 1]\n"
     ]
    }
   ],
   "source": [
    "# Listas\n",
    "lista = []\n",
    "lista.append(1)\n",
    "lista.append(5)\n",
    "print(lista)\n",
    "print(len(lista))\n",
    "lista.append([1, 2, 3])\n",
    "print(lista)\n",
    "print(len(lista))\n",
    "\n",
    "lista = [1, 8, 'Ana', 'Bia'] # não é aconselhável lista heterogênia\n",
    "print(lista)\n",
    "lista.remove(8)\n",
    "print(lista)\n",
    "lista.reverse() # altera os valores da lista\n",
    "print(lista)\n"
   ]
  },
  {
   "cell_type": "code",
   "execution_count": 74,
   "metadata": {
    "scrolled": true
   },
   "outputs": [
    {
     "name": "stdout",
     "output_type": "stream",
     "text": [
      "2\n",
      "Gui\n",
      "3.1415\n",
      "True\n",
      "[1, 5]\n",
      "[1, 5]\n",
      "['Gui', 'Bia']\n",
      "[1, 5, 'Gui', 3.1415]\n",
      "[1, 5]\n"
     ]
    }
   ],
   "source": [
    "#lista sequência Mutável\n",
    "lista = [1, 5, 'Gui', 'Bia', 3.1415] # não é aconselhável lista heterogênia\n",
    "print(lista.index('Gui'))\n",
    "print(lista[2])\n",
    "print(lista[-1]) # último elemento\n",
    "print(5 in lista)\n",
    "print(lista[0:2])\n",
    "print(lista[:2])\n",
    "print(lista[2:4])\n",
    "del lista[3] #delete elemento\n",
    "print(lista)\n",
    "del lista[2:]\n",
    "print(lista)"
   ]
  },
  {
   "cell_type": "code",
   "execution_count": 78,
   "metadata": {},
   "outputs": [
    {
     "name": "stdout",
     "output_type": "stream",
     "text": [
      "primeiro\n",
      "1\n"
     ]
    }
   ],
   "source": [
    "# Tuplas sequência Imutável\n",
    "tupla = () # ou tuple()\n",
    "tupla = ('primeiro',) # sem a vírgula não entende, fica como str\n",
    "print(tupla[0])\n",
    "print(tupla.count('primeiro'))"
   ]
  },
  {
   "cell_type": "code",
   "execution_count": 90,
   "metadata": {},
   "outputs": [
    {
     "name": "stdout",
     "output_type": "stream",
     "text": [
      "{1: '123', 2: '456', 3: 789}\n",
      "{'nome': 'Paula', 'idade': 30, 'cursos': ['inglês', 'português']}\n",
      "3\n",
      "Paula\n",
      "português\n",
      "dict_keys(['nome', 'idade', 'cursos'])\n",
      "dict_values(['Paula', 30, ['inglês', 'português']])\n",
      "dict_items([('nome', 'Paula'), ('idade', 30), ('cursos', ['inglês', 'português'])])\n",
      "30\n",
      "0\n"
     ]
    }
   ],
   "source": [
    "#Dicionario\n",
    "teste = {1: '123', 2: '456', 3: 789}\n",
    "print(teste)\n",
    "pessoa = {'nome': 'Paula', 'idade': 30, 'cursos': ['inglês', 'português']}\n",
    "print(pessoa)\n",
    "print(len(pessoa))\n",
    "print(pessoa['nome'])\n",
    "print(pessoa['cursos'][1])\n",
    "print(pessoa.keys())\n",
    "print(pessoa.values())\n",
    "print(pessoa.items())\n",
    "print(pessoa.get('idade'))\n",
    "print(pessoa.get('tags', 0)) # valor padrão caso não exista a key"
   ]
  },
  {
   "cell_type": "code",
   "execution_count": 94,
   "metadata": {
    "scrolled": true
   },
   "outputs": [
    {
     "name": "stdout",
     "output_type": "stream",
     "text": [
      "{'nome': 'Alberto', 'idade': 43, 'cursos': ['React', 'Python']}\n",
      "{'nome': 'Alberto', 'idade': 44, 'cursos': ['React', 'Python', 'Angular']}\n",
      "{'nome': 'Alberto', 'cursos': ['React', 'Python', 'Angular']}\n",
      "{'nome': 'Alberto', 'cursos': ['React', 'Python', 'Angular'], 'idade': 45, 'sexo': 'M'}\n",
      "{'nome': 'Alberto', 'idade': 45, 'sexo': 'M'}\n",
      "{}\n"
     ]
    }
   ],
   "source": [
    "pessoa = {'nome': 'Alberto', 'idade': 43, 'cursos': ['React', 'Python']}\n",
    "print(pessoa)\n",
    "pessoa['idade'] = 44\n",
    "pessoa['cursos'].append('Angular')\n",
    "print(pessoa)\n",
    "\n",
    "pessoa.pop('idade') # le o valor e em seguida remove a key\n",
    "print(pessoa)\n",
    "\n",
    "pessoa.update({'idade': 45, 'sexo': 'M'})\n",
    "print(pessoa)\n",
    "\n",
    "del pessoa['cursos'] # deleta\n",
    "print(pessoa)\n",
    "\n",
    "pessoa.clear()\n",
    "print(pessoa)"
   ]
  },
  {
   "cell_type": "code",
   "execution_count": 107,
   "metadata": {
    "scrolled": true
   },
   "outputs": [
    {
     "name": "stdout",
     "output_type": "stream",
     "text": [
      "{'r', 'd', 'c', 'o', 'e'}\n",
      "{1, 2, 3}\n",
      "False True\n",
      "True\n",
      "{1, 2, 5}\n",
      "{1, 2}\n",
      "{2}\n",
      "{1, 2, 5}\n",
      "True\n",
      "True\n",
      "{1, 5}\n",
      "{1}\n",
      "{1, 5}\n"
     ]
    }
   ],
   "source": [
    "# Conjuntos - tipo set\n",
    "# lista é indexada, aceita repetição, segue a ordem de inserção\n",
    "# conjunto não é indexado, não aceita repetição, não tem ordem\n",
    "a = set('coddddeeeerrr') #ignora as repetições\n",
    "print(a)\n",
    "\n",
    "a = {1, 2, 3}\n",
    "print(a)\n",
    "\n",
    "print('3' in a, 4 not in a)\n",
    "print(a == {3, 2, 1, 3})\n",
    "\n",
    "c1 = {1, 2}\n",
    "c2 = {2, 5}\n",
    "print(c1.union(c2)) # não muda o c1\n",
    "print(c1)\n",
    "print(c1.intersection(c2)) # não muda o c1\n",
    "c1.update(c2)\n",
    "print(c1)\n",
    "\n",
    "print(c2 <= c1) # está contido\n",
    "print(c1 >= c2) # contém\n",
    "\n",
    "print(c1 - {2}) # diferença dos conjuntos\n",
    "print(c1 - c2)\n",
    "\n",
    "c1 -= {2}\n",
    "print(c1)"
   ]
  },
  {
   "cell_type": "code",
   "execution_count": 119,
   "metadata": {},
   "outputs": [
    {
     "name": "stdout",
     "output_type": "stream",
     "text": [
      "Nome: Sonia, Idade: 30, Altura: 1.660000\n",
      "Nome: Sonia, Idade: 30, Altura: 1.66, Solteira: True\n",
      "Nome: Sonia, Idade: 30, Altura: 1.66\n",
      "Nome: Sonia, Idade: 30, Altura: 1.66, ou qualquer expressão: 17\n",
      "Nome: Sonia, Idade: 30, Altura: 1.66\n"
     ]
    }
   ],
   "source": [
    "# Interpolação\n",
    "from string import Template\n",
    "\n",
    "nome, idade, altura, solteira = 'Sonia', 30, 1.66, True\n",
    "\n",
    "print('Nome: %s, Idade: %d, Altura: %f' % (nome, idade, altura))\n",
    "print('Nome: %s, Idade: %d, Altura: %.2f, Solteira: %r' % (nome, idade, altura, solteira)) # Mais antiga\n",
    "\n",
    "print('Nome: {0}, Idade: {1}, Altura: {2}'.format(nome, idade, altura)) # Python < 3.6\n",
    "\n",
    "print(f'Nome: {nome}, Idade: {idade}, Altura: {altura}, ou qualquer expressão: {2 ** 4 + 1}') # Python > 3.6\n",
    "\n",
    "s = Template('Nome: $nome, Idade: $idade, Altura: $altura')\n",
    "print(s.substitute(nome=nome, idade=idade, altura=altura))"
   ]
  }
 ],
 "metadata": {
  "kernelspec": {
   "display_name": "Python 3",
   "language": "python",
   "name": "python3"
  },
  "language_info": {
   "codemirror_mode": {
    "name": "ipython",
    "version": 3
   },
   "file_extension": ".py",
   "mimetype": "text/x-python",
   "name": "python",
   "nbconvert_exporter": "python",
   "pygments_lexer": "ipython3",
   "version": "3.8.5"
  }
 },
 "nbformat": 4,
 "nbformat_minor": 4
}
