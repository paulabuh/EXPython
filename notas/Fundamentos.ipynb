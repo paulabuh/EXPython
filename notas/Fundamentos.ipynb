{
 "cells": [
  {
   "cell_type": "markdown",
   "metadata": {},
   "source": [
    "# Infos"
   ]
  },
  {
   "cell_type": "code",
   "execution_count": null,
   "metadata": {},
   "outputs": [],
   "source": [
    "# clica em In[] ele fica azul ou Esc, quer dizer que está no modo comando. Quando verde ou enter, está no modo escrita.\n",
    "# setas cima e baixo = navega entre as notas\n",
    "# Comand + enter = executa\n",
    "# b = cria uma nova nota depois; a = cria uma nova nota antes\n",
    "# l = exibe número das linhas\n",
    "# dd = exclui a nota\n",
    "# 1 ou m = altera tipo da nota para Markdown (tipo de escrita do github) # título ## subtítulo (Usar para colocar títulos para separar as notas)\n",
    "# y = volta para digitar modo código python\n",
    "# dir()\n",
    "# help(print)"
   ]
  },
  {
   "cell_type": "markdown",
   "metadata": {},
   "source": [
    "# Operadores"
   ]
  },
  {
   "cell_type": "code",
   "execution_count": 11,
   "metadata": {},
   "outputs": [
    {
     "name": "stdout",
     "output_type": "stream",
     "text": [
      "3\n",
      "-1\n",
      "10\n",
      "25\n",
      "1.5\n",
      "1\n"
     ]
    }
   ],
   "source": [
    "print(1 + 2)\n",
    "print(1 - 2)\n",
    "print(5 * 2)\n",
    "print(5 ** 2)\n",
    "print(3 / 2)\n",
    "print(3 // 2)"
   ]
  },
  {
   "cell_type": "code",
   "execution_count": 8,
   "metadata": {},
   "outputs": [
    {
     "data": {
      "text/plain": [
       "5"
      ]
     },
     "execution_count": 8,
     "metadata": {},
     "output_type": "execute_result"
    }
   ],
   "source": [
    "a = 2\n",
    "b = 3\n",
    "a + b"
   ]
  },
  {
   "cell_type": "code",
   "execution_count": 10,
   "metadata": {},
   "outputs": [
    {
     "data": {
      "text/plain": [
       "125"
      ]
     },
     "execution_count": 10,
     "metadata": {},
     "output_type": "execute_result"
    }
   ],
   "source": [
    "_ ** 3 # resultado da operacao anterior"
   ]
  },
  {
   "cell_type": "code",
   "execution_count": 12,
   "metadata": {},
   "outputs": [
    {
     "name": "stdout",
     "output_type": "stream",
     "text": [
      "7 3\n"
     ]
    }
   ],
   "source": [
    "a = 3\n",
    "b = 7\n",
    "\n",
    "a, b = b, a\n",
    "print (a, b)"
   ]
  }
 ],
 "metadata": {
  "kernelspec": {
   "display_name": "Python 3",
   "language": "python",
   "name": "python3"
  },
  "language_info": {
   "codemirror_mode": {
    "name": "ipython",
    "version": 3
   },
   "file_extension": ".py",
   "mimetype": "text/x-python",
   "name": "python",
   "nbconvert_exporter": "python",
   "pygments_lexer": "ipython3",
   "version": "3.8.5"
  }
 },
 "nbformat": 4,
 "nbformat_minor": 4
}
